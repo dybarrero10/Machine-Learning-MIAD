{
  "cells": [
    {
      "cell_type": "markdown",
      "metadata": {
        "id": "5BPnN56WUbvM"
      },
      "source": [
        "![image info](https://raw.githubusercontent.com/albahnsen/MIAD_ML_and_NLP/main/images/banner_1.png)"
      ]
    },
    {
      "cell_type": "markdown",
      "metadata": {
        "id": "g-zSTNZTUbvV"
      },
      "source": [
        "# Taller: Construcción e implementación de modelos Bagging, Random Forest y XGBoost\n",
        "\n",
        "En este taller podrán poner en práctica sus conocimientos sobre la construcción e implementación de modelos de Bagging, Random Forest y XGBoost. El taller está constituido por 8 puntos, en los cuales deberan seguir las intrucciones de cada numeral para su desarrollo."
      ]
    },
    {
      "cell_type": "markdown",
      "metadata": {
        "id": "5uWzwcsKUbvW"
      },
      "source": [
        "## Datos predicción precio de automóviles\n",
        "\n",
        "En este taller se usará el conjunto de datos de Car Listings de Kaggle donde cada observación representa el precio de un automóvil teniendo en cuenta distintas variables como año, marca, modelo, entre otras. El objetivo es predecir el precio del automóvil. Para más detalles puede visitar el siguiente enlace: [datos](https://www.kaggle.com/jpayne/852k-used-car-listings)."
      ]
    },
    {
      "cell_type": "code",
      "execution_count": null,
      "metadata": {
        "id": "Q7O1ooqLUbvX"
      },
      "outputs": [],
      "source": [
        "import warnings\n",
        "warnings.filterwarnings('ignore')"
      ]
    },
    {
      "cell_type": "code",
      "execution_count": null,
      "metadata": {
        "colab": {
          "base_uri": "https://localhost:8080/",
          "height": 206
        },
        "id": "czcPVCPbUbvY",
        "outputId": "13714f08-fcbc-433c-a124-73df77ee0ffe"
      },
      "outputs": [
        {
          "output_type": "execute_result",
          "data": {
            "text/plain": [
              "     Price  Year  Mileage  M_Camry  M_Camry4dr  M_CamryBase  M_CamryL  \\\n",
              "7    21995  2014     6480        0           0            0         1   \n",
              "11   13995  2014    39972        0           0            0         0   \n",
              "167  17941  2016    18989        0           0            0         0   \n",
              "225  12493  2014    51330        0           0            0         1   \n",
              "270   7994  2007   116065        0           1            0         0   \n",
              "\n",
              "     M_CamryLE  M_CamrySE  M_CamryXLE  \n",
              "7            0          0           0  \n",
              "11           1          0           0  \n",
              "167          0          1           0  \n",
              "225          0          0           0  \n",
              "270          0          0           0  "
            ],
            "text/html": [
              "\n",
              "  <div id=\"df-4eb4342c-a269-4d8d-91a9-97efc001d611\">\n",
              "    <div class=\"colab-df-container\">\n",
              "      <div>\n",
              "<style scoped>\n",
              "    .dataframe tbody tr th:only-of-type {\n",
              "        vertical-align: middle;\n",
              "    }\n",
              "\n",
              "    .dataframe tbody tr th {\n",
              "        vertical-align: top;\n",
              "    }\n",
              "\n",
              "    .dataframe thead th {\n",
              "        text-align: right;\n",
              "    }\n",
              "</style>\n",
              "<table border=\"1\" class=\"dataframe\">\n",
              "  <thead>\n",
              "    <tr style=\"text-align: right;\">\n",
              "      <th></th>\n",
              "      <th>Price</th>\n",
              "      <th>Year</th>\n",
              "      <th>Mileage</th>\n",
              "      <th>M_Camry</th>\n",
              "      <th>M_Camry4dr</th>\n",
              "      <th>M_CamryBase</th>\n",
              "      <th>M_CamryL</th>\n",
              "      <th>M_CamryLE</th>\n",
              "      <th>M_CamrySE</th>\n",
              "      <th>M_CamryXLE</th>\n",
              "    </tr>\n",
              "  </thead>\n",
              "  <tbody>\n",
              "    <tr>\n",
              "      <th>7</th>\n",
              "      <td>21995</td>\n",
              "      <td>2014</td>\n",
              "      <td>6480</td>\n",
              "      <td>0</td>\n",
              "      <td>0</td>\n",
              "      <td>0</td>\n",
              "      <td>1</td>\n",
              "      <td>0</td>\n",
              "      <td>0</td>\n",
              "      <td>0</td>\n",
              "    </tr>\n",
              "    <tr>\n",
              "      <th>11</th>\n",
              "      <td>13995</td>\n",
              "      <td>2014</td>\n",
              "      <td>39972</td>\n",
              "      <td>0</td>\n",
              "      <td>0</td>\n",
              "      <td>0</td>\n",
              "      <td>0</td>\n",
              "      <td>1</td>\n",
              "      <td>0</td>\n",
              "      <td>0</td>\n",
              "    </tr>\n",
              "    <tr>\n",
              "      <th>167</th>\n",
              "      <td>17941</td>\n",
              "      <td>2016</td>\n",
              "      <td>18989</td>\n",
              "      <td>0</td>\n",
              "      <td>0</td>\n",
              "      <td>0</td>\n",
              "      <td>0</td>\n",
              "      <td>0</td>\n",
              "      <td>1</td>\n",
              "      <td>0</td>\n",
              "    </tr>\n",
              "    <tr>\n",
              "      <th>225</th>\n",
              "      <td>12493</td>\n",
              "      <td>2014</td>\n",
              "      <td>51330</td>\n",
              "      <td>0</td>\n",
              "      <td>0</td>\n",
              "      <td>0</td>\n",
              "      <td>1</td>\n",
              "      <td>0</td>\n",
              "      <td>0</td>\n",
              "      <td>0</td>\n",
              "    </tr>\n",
              "    <tr>\n",
              "      <th>270</th>\n",
              "      <td>7994</td>\n",
              "      <td>2007</td>\n",
              "      <td>116065</td>\n",
              "      <td>0</td>\n",
              "      <td>1</td>\n",
              "      <td>0</td>\n",
              "      <td>0</td>\n",
              "      <td>0</td>\n",
              "      <td>0</td>\n",
              "      <td>0</td>\n",
              "    </tr>\n",
              "  </tbody>\n",
              "</table>\n",
              "</div>\n",
              "      <button class=\"colab-df-convert\" onclick=\"convertToInteractive('df-4eb4342c-a269-4d8d-91a9-97efc001d611')\"\n",
              "              title=\"Convert this dataframe to an interactive table.\"\n",
              "              style=\"display:none;\">\n",
              "        \n",
              "  <svg xmlns=\"http://www.w3.org/2000/svg\" height=\"24px\"viewBox=\"0 0 24 24\"\n",
              "       width=\"24px\">\n",
              "    <path d=\"M0 0h24v24H0V0z\" fill=\"none\"/>\n",
              "    <path d=\"M18.56 5.44l.94 2.06.94-2.06 2.06-.94-2.06-.94-.94-2.06-.94 2.06-2.06.94zm-11 1L8.5 8.5l.94-2.06 2.06-.94-2.06-.94L8.5 2.5l-.94 2.06-2.06.94zm10 10l.94 2.06.94-2.06 2.06-.94-2.06-.94-.94-2.06-.94 2.06-2.06.94z\"/><path d=\"M17.41 7.96l-1.37-1.37c-.4-.4-.92-.59-1.43-.59-.52 0-1.04.2-1.43.59L10.3 9.45l-7.72 7.72c-.78.78-.78 2.05 0 2.83L4 21.41c.39.39.9.59 1.41.59.51 0 1.02-.2 1.41-.59l7.78-7.78 2.81-2.81c.8-.78.8-2.07 0-2.86zM5.41 20L4 18.59l7.72-7.72 1.47 1.35L5.41 20z\"/>\n",
              "  </svg>\n",
              "      </button>\n",
              "      \n",
              "  <style>\n",
              "    .colab-df-container {\n",
              "      display:flex;\n",
              "      flex-wrap:wrap;\n",
              "      gap: 12px;\n",
              "    }\n",
              "\n",
              "    .colab-df-convert {\n",
              "      background-color: #E8F0FE;\n",
              "      border: none;\n",
              "      border-radius: 50%;\n",
              "      cursor: pointer;\n",
              "      display: none;\n",
              "      fill: #1967D2;\n",
              "      height: 32px;\n",
              "      padding: 0 0 0 0;\n",
              "      width: 32px;\n",
              "    }\n",
              "\n",
              "    .colab-df-convert:hover {\n",
              "      background-color: #E2EBFA;\n",
              "      box-shadow: 0px 1px 2px rgba(60, 64, 67, 0.3), 0px 1px 3px 1px rgba(60, 64, 67, 0.15);\n",
              "      fill: #174EA6;\n",
              "    }\n",
              "\n",
              "    [theme=dark] .colab-df-convert {\n",
              "      background-color: #3B4455;\n",
              "      fill: #D2E3FC;\n",
              "    }\n",
              "\n",
              "    [theme=dark] .colab-df-convert:hover {\n",
              "      background-color: #434B5C;\n",
              "      box-shadow: 0px 1px 3px 1px rgba(0, 0, 0, 0.15);\n",
              "      filter: drop-shadow(0px 1px 2px rgba(0, 0, 0, 0.3));\n",
              "      fill: #FFFFFF;\n",
              "    }\n",
              "  </style>\n",
              "\n",
              "      <script>\n",
              "        const buttonEl =\n",
              "          document.querySelector('#df-4eb4342c-a269-4d8d-91a9-97efc001d611 button.colab-df-convert');\n",
              "        buttonEl.style.display =\n",
              "          google.colab.kernel.accessAllowed ? 'block' : 'none';\n",
              "\n",
              "        async function convertToInteractive(key) {\n",
              "          const element = document.querySelector('#df-4eb4342c-a269-4d8d-91a9-97efc001d611');\n",
              "          const dataTable =\n",
              "            await google.colab.kernel.invokeFunction('convertToInteractive',\n",
              "                                                     [key], {});\n",
              "          if (!dataTable) return;\n",
              "\n",
              "          const docLinkHtml = 'Like what you see? Visit the ' +\n",
              "            '<a target=\"_blank\" href=https://colab.research.google.com/notebooks/data_table.ipynb>data table notebook</a>'\n",
              "            + ' to learn more about interactive tables.';\n",
              "          element.innerHTML = '';\n",
              "          dataTable['output_type'] = 'display_data';\n",
              "          await google.colab.output.renderOutput(dataTable, element);\n",
              "          const docLink = document.createElement('div');\n",
              "          docLink.innerHTML = docLinkHtml;\n",
              "          element.appendChild(docLink);\n",
              "        }\n",
              "      </script>\n",
              "    </div>\n",
              "  </div>\n",
              "  "
            ]
          },
          "metadata": {},
          "execution_count": 2
        }
      ],
      "source": [
        "# Importación de librerías\n",
        "%matplotlib inline\n",
        "import pandas as pd\n",
        "import numpy as np\n",
        "\n",
        "# Lectura de la información de archivo .csv\n",
        "data = pd.read_csv('https://raw.githubusercontent.com/albahnsen/MIAD_ML_and_NLP/main/datasets/dataTrain_carListings.zip')\n",
        "\n",
        "# Preprocesamiento de datos para el taller\n",
        "data = data.loc[data['Model'].str.contains('Camry')].drop(['Make', 'State'], axis=1)\n",
        "data = data.join(pd.get_dummies(data['Model'], prefix='M'))\n",
        "data = data.drop(['Model'], axis=1)\n",
        "\n",
        "# Visualización dataset\n",
        "data.head()"
      ]
    },
    {
      "cell_type": "code",
      "execution_count": null,
      "metadata": {
        "id": "0Dpk8XAlUbva"
      },
      "outputs": [],
      "source": [
        "# Separación de variables predictoras (X) y variable de interés (y)\n",
        "y = data['Price']\n",
        "X = data.drop(['Price'], axis=1)"
      ]
    },
    {
      "cell_type": "code",
      "execution_count": null,
      "metadata": {
        "id": "2-5op151Ubvb"
      },
      "outputs": [],
      "source": [
        "# Separación de datos en set de entrenamiento y test\n",
        "from sklearn.model_selection import train_test_split\n",
        "X_train, X_test, y_train, y_test = train_test_split(X, y, test_size=0.33, random_state=42)"
      ]
    },
    {
      "cell_type": "markdown",
      "metadata": {
        "id": "959Jc2JPUbvc"
      },
      "source": [
        "### Punto 1 - Árbol de decisión manual\n",
        "\n",
        "En la celda 1 creen un árbol de decisión **manualmente**  que considere los set de entrenamiento y test definidos anteriormente y presenten el RMSE y MAE del modelo en el set de test."
      ]
    },
    {
      "cell_type": "code",
      "execution_count": null,
      "metadata": {
        "colab": {
          "base_uri": "https://localhost:8080/"
        },
        "id": "EdsE21NaUbvd",
        "outputId": "4e447efc-1462-41a2-f14a-70e00894c0c5"
      },
      "outputs": [
        {
          "output_type": "execute_result",
          "data": {
            "text/plain": [
              "{'y_pred': 14508.073389276064,\n",
              " 'y_prob': 1.0,\n",
              " 'level': 0,\n",
              " 'split': [0, 2014.0],\n",
              " 'n_samples': 7031,\n",
              " 'gain': 8706079.2690802,\n",
              " 'sl': {'y_pred': 10234.929955947136,\n",
              "  'y_prob': 1.0,\n",
              "  'level': 1,\n",
              "  'split': [0, 2012.0],\n",
              "  'n_samples': 2270,\n",
              "  'gain': 4019659.1499605672,\n",
              "  'sl': {'y_pred': 8737.28071379547,\n",
              "   'y_prob': 1.0,\n",
              "   'level': 2,\n",
              "   'split': [1, 97798.72727272728],\n",
              "   'n_samples': 1457,\n",
              "   'gain': 1109280.4742891928,\n",
              "   'sl': {'y_pred': 9891.465256797583,\n",
              "    'y_prob': 1.0,\n",
              "    'level': 3,\n",
              "    'split': -1,\n",
              "    'n_samples': 662,\n",
              "    'gain': 902634.9592679311},\n",
              "   'sr': {'y_pred': 7776.186163522013,\n",
              "    'y_prob': 1.0,\n",
              "    'level': 3,\n",
              "    'split': -1,\n",
              "    'n_samples': 795,\n",
              "    'gain': 619143.7020776966}},\n",
              "  'sr': {'y_pred': 12918.90897908979,\n",
              "   'y_prob': 1.0,\n",
              "   'level': 2,\n",
              "   'split': [1, 73300.81818181818],\n",
              "   'n_samples': 813,\n",
              "   'gain': 1307870.1875079386,\n",
              "   'sl': {'y_pred': 13964.06546275395,\n",
              "    'y_prob': 1.0,\n",
              "    'level': 3,\n",
              "    'split': -1,\n",
              "    'n_samples': 443,\n",
              "    'gain': 471367.77656936925},\n",
              "   'sr': {'y_pred': 11667.545945945945,\n",
              "    'y_prob': 1.0,\n",
              "    'level': 3,\n",
              "    'split': -1,\n",
              "    'n_samples': 370,\n",
              "    'gain': 633098.219604515}}},\n",
              " 'sr': {'y_pred': 16545.467968914094,\n",
              "  'y_prob': 1.0,\n",
              "  'level': 1,\n",
              "  'split': [0, 2017.0],\n",
              "  'n_samples': 4761,\n",
              "  'gain': 1524388.1958712116,\n",
              "  'sl': {'y_pred': 15976.070045848192,\n",
              "   'y_prob': 1.0,\n",
              "   'level': 2,\n",
              "   'split': [1, 38129.18181818181],\n",
              "   'n_samples': 3926,\n",
              "   'gain': 636094.2725747116,\n",
              "   'sl': {'y_pred': 16704.304997664643,\n",
              "    'y_prob': 1.0,\n",
              "    'level': 3,\n",
              "    'split': -1,\n",
              "    'n_samples': 2141,\n",
              "    'gain': 393721.5099776862},\n",
              "   'sr': {'y_pred': 15102.596078431372,\n",
              "    'y_prob': 1.0,\n",
              "    'level': 3,\n",
              "    'split': -1,\n",
              "    'n_samples': 1785,\n",
              "    'gain': 456462.87144669937}},\n",
              "  'sr': {'y_pred': 19222.66107784431,\n",
              "   'y_prob': 1.0,\n",
              "   'level': 2,\n",
              "   'split': [8, 1.0],\n",
              "   'n_samples': 835,\n",
              "   'gain': 1093632.8568244968,\n",
              "   'sl': {'y_pred': 18798.41562064156,\n",
              "    'y_prob': 1.0,\n",
              "    'level': 3,\n",
              "    'split': -1,\n",
              "    'n_samples': 717,\n",
              "    'gain': 625934.2430225937},\n",
              "   'sr': {'y_pred': 21800.491525423728,\n",
              "    'y_prob': 1.0,\n",
              "    'level': 3,\n",
              "    'split': -1,\n",
              "    'n_samples': 118,\n",
              "    'gain': 877457.3612354994}}}}"
            ]
          },
          "metadata": {},
          "execution_count": 5
        }
      ],
      "source": [
        "max_depth = None\n",
        "num_pct = 10\n",
        "max_features = None\n",
        "min_gain = 0.001\n",
        "\n",
        "#En este caso de regresión se utilizo MSE cambiando a la función Gini \n",
        "\n",
        "def mse(y):\n",
        "    if y.shape[0] == 0:\n",
        "        return 0\n",
        "    else:\n",
        "        return ((y - y.mean())**2).mean()\n",
        "\n",
        "def mse_impurity(X_col, y, split):\n",
        "    \n",
        "    filter_l = X_col < split\n",
        "    y_l = y.loc[filter_l]\n",
        "    y_r = y.loc[~filter_l]\n",
        "    \n",
        "    n_l = y_l.shape[0]\n",
        "    n_r = y_r.shape[0]\n",
        "    \n",
        "    mse_y = mse(y)\n",
        "    mse_l = mse(y_l)\n",
        "    mse_r = mse(y_r)\n",
        "    \n",
        "    mse_impurity_ = mse_y - (n_l / (n_l + n_r) * mse_l + n_r / (n_l + n_r) * mse_r)\n",
        "    \n",
        "    return mse_impurity_\n",
        "\n",
        "def best_split(X, y, num_pct=10):\n",
        "    \n",
        "    features = range(X.shape[1])\n",
        "    \n",
        "    best_split = [0, 0, 0]  # j, split, gain\n",
        "    \n",
        "    # Para todas las varibles \n",
        "    for j in features:\n",
        "        \n",
        "        splits = np.percentile(X.iloc[:, j], np.arange(0, 100, 100.0 / (num_pct+1)).tolist())\n",
        "        splits = np.unique(splits)[1:]\n",
        "        \n",
        "        # Para cada partición\n",
        "        for split in splits:\n",
        "            gain = mse_impurity(X.iloc[:, j], y, split)\n",
        "                        \n",
        "            if gain > best_split[2]:\n",
        "                best_split = [j, split, gain]\n",
        "    \n",
        "    return best_split\n",
        "\n",
        "def tree_grow(X, y, level=0, min_gain=0.001, max_depth=None, num_pct=10):\n",
        "    \n",
        "    # Si solo es una observación\n",
        "    if X.shape[0] == 1:\n",
        "        tree = dict(y_pred=y.iloc[:1].values[0], y_prob=y.mean(), level=level, split=-1, n_samples=1, gain=0)\n",
        "        return tree\n",
        "    \n",
        "    # Calcular la mejor división\n",
        "    j, split, gain = best_split(X, y, num_pct)\n",
        "    \n",
        "    # Guardar el árbol y estimar la predicción\n",
        "    y_pred = y.mean()\n",
        "    y_prob = 1.0\n",
        "    \n",
        "    tree = dict(y_pred=y_pred, y_prob=y_prob, level=level, split=-1, n_samples=X.shape[0], gain=gain)\n",
        "    # Revisar el criterio de parada \n",
        "    if gain < min_gain:\n",
        "        return tree\n",
        "    if max_depth is not None:\n",
        "        if level >= max_depth:\n",
        "            return tree   \n",
        "    \n",
        "    # Continuar creando la partición\n",
        "    filter_l = X.iloc[:, j] < split\n",
        "    X_l, y_l = X.loc[filter_l], y.loc[filter_l]\n",
        "    X_r, y_r = X.loc[~filter_l], y.loc[~filter_l]\n",
        "    tree['split'] = [j, split]\n",
        "\n",
        "    # Siguiente iteración para cada partición\n",
        "    \n",
        "       # Siguiente iteración para cada partición\n",
        "    \n",
        "    tree['sl'] = tree_grow(X_l, y_l, level + 1, min_gain=min_gain, max_depth=max_depth, num_pct=num_pct)\n",
        "    tree['sr'] = tree_grow(X_r, y_r, level + 1, min_gain=min_gain, max_depth=max_depth, num_pct=num_pct)\n",
        "    \n",
        "    return tree\n",
        "\n",
        "tree_grow(X, y, level=0, min_gain=0.001, max_depth=1, num_pct=10)\n",
        "tree = tree_grow(X_train, y_train, level=0, min_gain=0.001, max_depth=3, num_pct=10)\n",
        "tree\n"
      ]
    },
    {
      "cell_type": "code",
      "execution_count": null,
      "metadata": {
        "id": "pdOjf_zQUbvh"
      },
      "outputs": [],
      "source": [
        "def tree_predict(X, tree, proba=False):\n",
        "    \n",
        "    predicted = np.ones(X.shape[0])\n",
        "\n",
        "    # Revisar si es el nodo final\n",
        "    if tree['split'] == -1:\n",
        "        if not proba:\n",
        "            predicted = predicted * tree['y_pred']\n",
        "        else:\n",
        "            predicted = predicted * tree['y_prob']\n",
        "            \n",
        "    else:\n",
        "        \n",
        "        j, split = tree['split']\n",
        "        filter_l = (X.iloc[:, j] < split)\n",
        "        X_l = X.loc[filter_l]\n",
        "        X_r = X.loc[~filter_l]\n",
        "\n",
        "        if X_l.shape[0] == 0:  # Si el nodo izquierdo está vacio solo continua con el derecho \n",
        "            predicted[~filter_l] = tree_predict(X_r, tree['sr'], proba)\n",
        "        elif X_r.shape[0] == 0:  #  Si el nodo derecho está vacio solo continua con el izquierdo\n",
        "            predicted[filter_l] = tree_predict(X_l, tree['sl'], proba)\n",
        "        else:\n",
        "            predicted[filter_l] = tree_predict(X_l, tree['sl'], proba)\n",
        "            predicted[~filter_l] = tree_predict(X_r, tree['sr'], proba)\n",
        "\n",
        "    return predicted\n",
        "\n",
        "# Ejecución de función tree_predict\n",
        "y_pred = tree_predict(X_test, tree)"
      ]
    },
    {
      "cell_type": "code",
      "execution_count": null,
      "metadata": {
        "colab": {
          "base_uri": "https://localhost:8080/"
        },
        "id": "FRamBMlsUbvi",
        "outputId": "4f5e9988-b652-445f-f103-c38cec94516e"
      },
      "outputs": [
        {
          "output_type": "stream",
          "name": "stdout",
          "text": [
            "Error cuadrático medio (RMSE): 1445.8091325887447\n",
            "Error absoluto medio (MAE): 1921.0003286740268\n"
          ]
        }
      ],
      "source": [
        "#RSME Error\n",
        "import math\n",
        "MSE = np.square(np.subtract(y_test,y_pred)).mean()\n",
        "MAE_manual_tree = np.mean(np.abs(y_test - y_pred))\n",
        "rsme_manual_tree = math.sqrt(MSE)\n",
        "\n",
        "\n",
        "print(\"Error cuadrático medio (RMSE):\", MAE_manual_tree)\n",
        "print(\"Error absoluto medio (MAE):\", rsme_manual_tree)\n"
      ]
    },
    {
      "cell_type": "markdown",
      "metadata": {
        "id": "OC_Sha8IUbvk"
      },
      "source": [
        "Teniendo en cuentas la realización del código y la realización de la misma se considera que realizar el árbol de decisión de manera manual es poco eficiente para la correcta realización de la estimación de los datos. En este caso al ser una regresión se tomo el mismo formato que los laboratorios del árbol manual pero con MSE como párametro encambio de Gini. Se obtuvo que tiene una desviación promedio en los precios de los autos de 1.921 dólares con dichos resultados e indica que el modelo tiene un error promedio de 1.445 dólares en la predicción de los precios de los autos. De igual manera, nos parece poco eficiente según los errores (RMSE y MAE) comparado con otros realizados en este taller."
      ]
    },
    {
      "cell_type": "markdown",
      "metadata": {
        "id": "3_VLYIpSUbvk"
      },
      "source": [
        "### Punto 2 - Bagging manual\n",
        "\n",
        "En la celda 2 creen un modelo bagging **manualmente** con 10 árboles de regresión y comenten sobre el desempeño del modelo."
      ]
    },
    {
      "cell_type": "code",
      "execution_count": null,
      "metadata": {
        "colab": {
          "base_uri": "https://localhost:8080/",
          "height": 424
        },
        "id": "4_LDxVOGUbvk",
        "outputId": "18bda5ee-8a1a-43f4-8ac3-ea25ab06fb02"
      },
      "outputs": [
        {
          "output_type": "execute_result",
          "data": {
            "text/plain": [
              "              0        1        2        3        4        5        6  \\\n",
              "257343  14980.0  13993.0  13649.0  13649.0  11788.0  13649.0  13993.0   \n",
              "326011   6492.0   5995.0   5995.0   6987.0   5995.0   5995.0   5995.0   \n",
              "242354  16491.0  16995.0  16491.0  15997.0  15997.0  16491.0  17591.0   \n",
              "266376  21990.0  21990.0  22500.0  21990.0  15900.0  21990.0  22500.0   \n",
              "396954  15988.0  16951.0  15988.0  15988.0  15988.0  17900.0  16951.0   \n",
              "...         ...      ...      ...      ...      ...      ...      ...   \n",
              "144298  13836.0  14800.0  14800.0  14800.0  14800.0  14681.0  14800.0   \n",
              "364521  15999.0  14995.0  15999.0  16900.0  15999.0  15999.0  17300.0   \n",
              "120072  23533.0  23533.0  20000.0  17700.0  17700.0  23533.0  17700.0   \n",
              "99878   12989.0  12995.0  12989.0  12995.0  12991.0  12991.0  10995.0   \n",
              "387162  10991.0  11314.0  12999.0  12995.0   9995.0  11995.0  11985.0   \n",
              "\n",
              "              7        8        9  \n",
              "257343  13990.0  13990.0  13993.0  \n",
              "326011   6987.0   5995.0   5995.0  \n",
              "242354  16995.0  17404.0  16491.0  \n",
              "266376  21990.0  15813.0  21990.0  \n",
              "396954  16951.0  15988.0  15988.0  \n",
              "...         ...      ...      ...  \n",
              "144298  14800.0  13836.0  13836.0  \n",
              "364521  15999.0  16900.0  15000.0  \n",
              "120072  23533.0  23533.0  20000.0  \n",
              "99878   12991.0  12991.0  12893.0  \n",
              "387162  10991.0  11314.0  14995.0  \n",
              "\n",
              "[3464 rows x 10 columns]"
            ],
            "text/html": [
              "\n",
              "  <div id=\"df-2089a42e-9748-439f-ae4b-7adcb305bd5e\">\n",
              "    <div class=\"colab-df-container\">\n",
              "      <div>\n",
              "<style scoped>\n",
              "    .dataframe tbody tr th:only-of-type {\n",
              "        vertical-align: middle;\n",
              "    }\n",
              "\n",
              "    .dataframe tbody tr th {\n",
              "        vertical-align: top;\n",
              "    }\n",
              "\n",
              "    .dataframe thead tr th {\n",
              "        text-align: left;\n",
              "    }\n",
              "</style>\n",
              "<table border=\"1\" class=\"dataframe\">\n",
              "  <thead>\n",
              "    <tr>\n",
              "      <th></th>\n",
              "      <th>0</th>\n",
              "      <th>1</th>\n",
              "      <th>2</th>\n",
              "      <th>3</th>\n",
              "      <th>4</th>\n",
              "      <th>5</th>\n",
              "      <th>6</th>\n",
              "      <th>7</th>\n",
              "      <th>8</th>\n",
              "      <th>9</th>\n",
              "    </tr>\n",
              "  </thead>\n",
              "  <tbody>\n",
              "    <tr>\n",
              "      <th>257343</th>\n",
              "      <td>14980.0</td>\n",
              "      <td>13993.0</td>\n",
              "      <td>13649.0</td>\n",
              "      <td>13649.0</td>\n",
              "      <td>11788.0</td>\n",
              "      <td>13649.0</td>\n",
              "      <td>13993.0</td>\n",
              "      <td>13990.0</td>\n",
              "      <td>13990.0</td>\n",
              "      <td>13993.0</td>\n",
              "    </tr>\n",
              "    <tr>\n",
              "      <th>326011</th>\n",
              "      <td>6492.0</td>\n",
              "      <td>5995.0</td>\n",
              "      <td>5995.0</td>\n",
              "      <td>6987.0</td>\n",
              "      <td>5995.0</td>\n",
              "      <td>5995.0</td>\n",
              "      <td>5995.0</td>\n",
              "      <td>6987.0</td>\n",
              "      <td>5995.0</td>\n",
              "      <td>5995.0</td>\n",
              "    </tr>\n",
              "    <tr>\n",
              "      <th>242354</th>\n",
              "      <td>16491.0</td>\n",
              "      <td>16995.0</td>\n",
              "      <td>16491.0</td>\n",
              "      <td>15997.0</td>\n",
              "      <td>15997.0</td>\n",
              "      <td>16491.0</td>\n",
              "      <td>17591.0</td>\n",
              "      <td>16995.0</td>\n",
              "      <td>17404.0</td>\n",
              "      <td>16491.0</td>\n",
              "    </tr>\n",
              "    <tr>\n",
              "      <th>266376</th>\n",
              "      <td>21990.0</td>\n",
              "      <td>21990.0</td>\n",
              "      <td>22500.0</td>\n",
              "      <td>21990.0</td>\n",
              "      <td>15900.0</td>\n",
              "      <td>21990.0</td>\n",
              "      <td>22500.0</td>\n",
              "      <td>21990.0</td>\n",
              "      <td>15813.0</td>\n",
              "      <td>21990.0</td>\n",
              "    </tr>\n",
              "    <tr>\n",
              "      <th>396954</th>\n",
              "      <td>15988.0</td>\n",
              "      <td>16951.0</td>\n",
              "      <td>15988.0</td>\n",
              "      <td>15988.0</td>\n",
              "      <td>15988.0</td>\n",
              "      <td>17900.0</td>\n",
              "      <td>16951.0</td>\n",
              "      <td>16951.0</td>\n",
              "      <td>15988.0</td>\n",
              "      <td>15988.0</td>\n",
              "    </tr>\n",
              "    <tr>\n",
              "      <th>...</th>\n",
              "      <td>...</td>\n",
              "      <td>...</td>\n",
              "      <td>...</td>\n",
              "      <td>...</td>\n",
              "      <td>...</td>\n",
              "      <td>...</td>\n",
              "      <td>...</td>\n",
              "      <td>...</td>\n",
              "      <td>...</td>\n",
              "      <td>...</td>\n",
              "    </tr>\n",
              "    <tr>\n",
              "      <th>144298</th>\n",
              "      <td>13836.0</td>\n",
              "      <td>14800.0</td>\n",
              "      <td>14800.0</td>\n",
              "      <td>14800.0</td>\n",
              "      <td>14800.0</td>\n",
              "      <td>14681.0</td>\n",
              "      <td>14800.0</td>\n",
              "      <td>14800.0</td>\n",
              "      <td>13836.0</td>\n",
              "      <td>13836.0</td>\n",
              "    </tr>\n",
              "    <tr>\n",
              "      <th>364521</th>\n",
              "      <td>15999.0</td>\n",
              "      <td>14995.0</td>\n",
              "      <td>15999.0</td>\n",
              "      <td>16900.0</td>\n",
              "      <td>15999.0</td>\n",
              "      <td>15999.0</td>\n",
              "      <td>17300.0</td>\n",
              "      <td>15999.0</td>\n",
              "      <td>16900.0</td>\n",
              "      <td>15000.0</td>\n",
              "    </tr>\n",
              "    <tr>\n",
              "      <th>120072</th>\n",
              "      <td>23533.0</td>\n",
              "      <td>23533.0</td>\n",
              "      <td>20000.0</td>\n",
              "      <td>17700.0</td>\n",
              "      <td>17700.0</td>\n",
              "      <td>23533.0</td>\n",
              "      <td>17700.0</td>\n",
              "      <td>23533.0</td>\n",
              "      <td>23533.0</td>\n",
              "      <td>20000.0</td>\n",
              "    </tr>\n",
              "    <tr>\n",
              "      <th>99878</th>\n",
              "      <td>12989.0</td>\n",
              "      <td>12995.0</td>\n",
              "      <td>12989.0</td>\n",
              "      <td>12995.0</td>\n",
              "      <td>12991.0</td>\n",
              "      <td>12991.0</td>\n",
              "      <td>10995.0</td>\n",
              "      <td>12991.0</td>\n",
              "      <td>12991.0</td>\n",
              "      <td>12893.0</td>\n",
              "    </tr>\n",
              "    <tr>\n",
              "      <th>387162</th>\n",
              "      <td>10991.0</td>\n",
              "      <td>11314.0</td>\n",
              "      <td>12999.0</td>\n",
              "      <td>12995.0</td>\n",
              "      <td>9995.0</td>\n",
              "      <td>11995.0</td>\n",
              "      <td>11985.0</td>\n",
              "      <td>10991.0</td>\n",
              "      <td>11314.0</td>\n",
              "      <td>14995.0</td>\n",
              "    </tr>\n",
              "  </tbody>\n",
              "</table>\n",
              "<p>3464 rows × 10 columns</p>\n",
              "</div>\n",
              "      <button class=\"colab-df-convert\" onclick=\"convertToInteractive('df-2089a42e-9748-439f-ae4b-7adcb305bd5e')\"\n",
              "              title=\"Convert this dataframe to an interactive table.\"\n",
              "              style=\"display:none;\">\n",
              "        \n",
              "  <svg xmlns=\"http://www.w3.org/2000/svg\" height=\"24px\"viewBox=\"0 0 24 24\"\n",
              "       width=\"24px\">\n",
              "    <path d=\"M0 0h24v24H0V0z\" fill=\"none\"/>\n",
              "    <path d=\"M18.56 5.44l.94 2.06.94-2.06 2.06-.94-2.06-.94-.94-2.06-.94 2.06-2.06.94zm-11 1L8.5 8.5l.94-2.06 2.06-.94-2.06-.94L8.5 2.5l-.94 2.06-2.06.94zm10 10l.94 2.06.94-2.06 2.06-.94-2.06-.94-.94-2.06-.94 2.06-2.06.94z\"/><path d=\"M17.41 7.96l-1.37-1.37c-.4-.4-.92-.59-1.43-.59-.52 0-1.04.2-1.43.59L10.3 9.45l-7.72 7.72c-.78.78-.78 2.05 0 2.83L4 21.41c.39.39.9.59 1.41.59.51 0 1.02-.2 1.41-.59l7.78-7.78 2.81-2.81c.8-.78.8-2.07 0-2.86zM5.41 20L4 18.59l7.72-7.72 1.47 1.35L5.41 20z\"/>\n",
              "  </svg>\n",
              "      </button>\n",
              "      \n",
              "  <style>\n",
              "    .colab-df-container {\n",
              "      display:flex;\n",
              "      flex-wrap:wrap;\n",
              "      gap: 12px;\n",
              "    }\n",
              "\n",
              "    .colab-df-convert {\n",
              "      background-color: #E8F0FE;\n",
              "      border: none;\n",
              "      border-radius: 50%;\n",
              "      cursor: pointer;\n",
              "      display: none;\n",
              "      fill: #1967D2;\n",
              "      height: 32px;\n",
              "      padding: 0 0 0 0;\n",
              "      width: 32px;\n",
              "    }\n",
              "\n",
              "    .colab-df-convert:hover {\n",
              "      background-color: #E2EBFA;\n",
              "      box-shadow: 0px 1px 2px rgba(60, 64, 67, 0.3), 0px 1px 3px 1px rgba(60, 64, 67, 0.15);\n",
              "      fill: #174EA6;\n",
              "    }\n",
              "\n",
              "    [theme=dark] .colab-df-convert {\n",
              "      background-color: #3B4455;\n",
              "      fill: #D2E3FC;\n",
              "    }\n",
              "\n",
              "    [theme=dark] .colab-df-convert:hover {\n",
              "      background-color: #434B5C;\n",
              "      box-shadow: 0px 1px 3px 1px rgba(0, 0, 0, 0.15);\n",
              "      filter: drop-shadow(0px 1px 2px rgba(0, 0, 0, 0.3));\n",
              "      fill: #FFFFFF;\n",
              "    }\n",
              "  </style>\n",
              "\n",
              "      <script>\n",
              "        const buttonEl =\n",
              "          document.querySelector('#df-2089a42e-9748-439f-ae4b-7adcb305bd5e button.colab-df-convert');\n",
              "        buttonEl.style.display =\n",
              "          google.colab.kernel.accessAllowed ? 'block' : 'none';\n",
              "\n",
              "        async function convertToInteractive(key) {\n",
              "          const element = document.querySelector('#df-2089a42e-9748-439f-ae4b-7adcb305bd5e');\n",
              "          const dataTable =\n",
              "            await google.colab.kernel.invokeFunction('convertToInteractive',\n",
              "                                                     [key], {});\n",
              "          if (!dataTable) return;\n",
              "\n",
              "          const docLinkHtml = 'Like what you see? Visit the ' +\n",
              "            '<a target=\"_blank\" href=https://colab.research.google.com/notebooks/data_table.ipynb>data table notebook</a>'\n",
              "            + ' to learn more about interactive tables.';\n",
              "          element.innerHTML = '';\n",
              "          dataTable['output_type'] = 'display_data';\n",
              "          await google.colab.output.renderOutput(dataTable, element);\n",
              "          const docLink = document.createElement('div');\n",
              "          docLink.innerHTML = docLinkHtml;\n",
              "          element.appendChild(docLink);\n",
              "        }\n",
              "      </script>\n",
              "    </div>\n",
              "  </div>\n",
              "  "
            ]
          },
          "metadata": {},
          "execution_count": 8
        }
      ],
      "source": [
        "# Se crea un arreglo de 1 a 20\n",
        "np.random.seed(1)\n",
        "\n",
        "# Impresión de arreglo y muestreo aleatorio\n",
        "nums = np.arange(1, 21)\n",
        "\n",
        "np.random.seed(123)\n",
        "\n",
        "n_samples = X_train.shape[0]\n",
        "n_B = 10\n",
        "\n",
        "samples = [np.random.choice(a=n_samples, size=n_samples, replace=True) for _ in range(1, n_B +1 )]\n",
        "\n",
        "from sklearn.tree import DecisionTreeRegressor\n",
        "\n",
        "# Definición del modelo usando DecisionTreeRegressor de sklearn\n",
        "treereg = DecisionTreeRegressor(max_depth=None, random_state=123)\n",
        "\n",
        "# DataFrame para guardar las predicciones de cada árbol\n",
        "y_pred_bag = pd.DataFrame(index=X_test.index, columns=[list(range(n_B))])\n",
        "\n",
        "# Entrenamiento de un árbol sobre cada muestra boostrap y predicción sobre los datos de test\n",
        "for i, sample in enumerate(samples):\n",
        "    X_train_bag = X_train.iloc[sample]\n",
        "    y_train_bag = y_train.iloc[sample]\n",
        "    treereg.fit(X_train_bag, y_train_bag)\n",
        "    y_pred_bag.iloc[:,i] = treereg.predict(X_test)\n",
        "    \n",
        "y_pred_bag"
      ]
    },
    {
      "cell_type": "code",
      "execution_count": null,
      "metadata": {
        "colab": {
          "base_uri": "https://localhost:8080/"
        },
        "id": "vBHzKs7QUbvl",
        "outputId": "b83e3eec-34a0-473c-f582-23c60daca401"
      },
      "outputs": [
        {
          "output_type": "stream",
          "name": "stdout",
          "text": [
            "Árbol  0 tiene un error:  2141.613353645869\n",
            "Árbol  1 tiene un error:  2136.3519863123465\n",
            "Árbol  2 tiene un error:  2122.718759132052\n",
            "Árbol  3 tiene un error:  2087.278992468617\n",
            "Árbol  4 tiene un error:  2168.518742842026\n",
            "Árbol  5 tiene un error:  2113.8811455834793\n",
            "Árbol  6 tiene un error:  2127.933470769012\n",
            "Árbol  7 tiene un error:  2184.414847251443\n",
            "Árbol  8 tiene un error:  2138.1071697514985\n",
            "Árbol  9 tiene un error:  2132.097520859104\n",
            "257343    13767.4\n",
            "326011     6243.1\n",
            "242354    16694.3\n",
            "266376    20865.3\n",
            "396954    16468.1\n",
            "           ...   \n",
            "144298    14498.9\n",
            "364521    16109.0\n",
            "120072    21076.5\n",
            "99878     12782.0\n",
            "387162    11957.4\n",
            "Length: 3464, dtype: float64\n"
          ]
        }
      ],
      "source": [
        "from sklearn.metrics import mean_squared_error\n",
        "for i in range(n_B):\n",
        "    print('Árbol ', i, 'tiene un error: ', np.sqrt(mean_squared_error(y_pred_bag.iloc[:,i], y_test)))\n",
        "\n",
        "print(y_pred_bag.mean(axis=1))"
      ]
    },
    {
      "cell_type": "code",
      "execution_count": 22,
      "metadata": {
        "colab": {
          "base_uri": "https://localhost:8080/"
        },
        "id": "5uFl_eCyUbvl",
        "outputId": "1763372d-81be-4370-e588-c37669649298"
      },
      "outputs": [
        {
          "output_type": "stream",
          "name": "stdout",
          "text": [
            "Error cuadrático medio (RMSE): 1796.4355868399332\n",
            "Error absoluto medio (MAE): 1340.0160739030025\n"
          ]
        }
      ],
      "source": [
        "# Error al promediar las predicciones de todos los árboles\n",
        "from sklearn.metrics import mean_squared_error, mean_absolute_error, mean_absolute_percentage_error\n",
        "mse_bag_manual = mean_squared_error(y_test, y_pred_bag.mean(axis=1))\n",
        "MAE_bag_manual = mean_absolute_error(y_test, y_pred_bag.mean(axis=1))\n",
        "RMSE_bag_manual = np.sqrt(mse_bag_manual)\n",
        "\n",
        "print(\"Error cuadrático medio (RMSE):\", RMSE_bag_manual)\n",
        "print(\"Error absoluto medio (MAE):\", MAE_bag_manual)"
      ]
    },
    {
      "cell_type": "markdown",
      "source": [
        "Se obtuvo que tiene una desviación promedio en los precios de los autos de 1.340 dólares con dichos resultados e indica que el modelo tiene un error promedio de 1.796 dólares en la predicción de los precios de los autos. En este caso comparado con el árbol de decisión se puede ver que se mejoro en cuento el valor del MAE unos 128 dolares pero con respecto a el RMSE este aumento 351 dandonos a entender que puede existir un modelo mejor. "
      ],
      "metadata": {
        "id": "AInl4tkHa1Th"
      }
    },
    {
      "cell_type": "markdown",
      "metadata": {
        "id": "Obh1_or6Ubvm"
      },
      "source": [
        "### Punto 3 - Bagging con librería\n",
        "\n",
        "En la celda 3, con la librería sklearn, entrenen un modelo bagging con 10 árboles de regresión y el parámetro `max_features` igual a `log(n_features)` y comenten sobre el desempeño del modelo."
      ]
    },
    {
      "cell_type": "code",
      "execution_count": 19,
      "metadata": {
        "id": "urPrzDXTUbvm",
        "outputId": "627f3d58-5f17-42ba-f869-cdab49238bb3",
        "colab": {
          "base_uri": "https://localhost:8080/"
        }
      },
      "outputs": [
        {
          "output_type": "stream",
          "name": "stdout",
          "text": [
            "Error cuadrático medio (RMSE): 1824.7000069648657\n",
            "Error absoluto medio (MAE): 1361.8777493561897\n"
          ]
        }
      ],
      "source": [
        "from sklearn.ensemble import BaggingRegressor\n",
        "from sklearn.tree import DecisionTreeRegressor\n",
        "from sklearn.metrics import mean_squared_error, mean_absolute_error, mean_absolute_percentage_error\n",
        "\n",
        "\n",
        "bagreg = BaggingRegressor(DecisionTreeRegressor(max_features = 'log2'), n_estimators=10, \n",
        "                          bootstrap=True, oob_score=True, random_state=1)\n",
        "bagreg.fit(X_train, y_train)\n",
        "y_pred = bagreg.predict(X_test)\n",
        "mse_BG_sk = mean_squared_error(y_test, y_pred)\n",
        "MAE_BG_sk = mean_absolute_error(y_test, y_pred)\n",
        "RMSE_BG_sk = np.sqrt(mse_BG_sk)\n",
        "\n",
        "print(\"Error cuadrático medio (RMSE):\", RMSE_BG_sk)\n",
        "print(\"Error absoluto medio (MAE):\", MAE_BG_sk)"
      ]
    },
    {
      "cell_type": "markdown",
      "source": [
        "Se obtuvo que tiene una desviación promedio en los precios de los autos de 1.361 dólares con dichos resultados e indica que el modelo tiene un error promedio de 1.824 dólares en la predicción de los precios de los autos. En este caso comparado con el bagging manual se puede ver que se aumento el valor del MAE unos 61 dolares y con respecto a el RMSE este aumento 28 dolares teniendo mejor desempeño el modelo anterior."
      ],
      "metadata": {
        "id": "7vj-kBk1dDGl"
      }
    },
    {
      "cell_type": "markdown",
      "metadata": {
        "id": "GrIwJY-EUbvn"
      },
      "source": [
        "### Punto 4 - Random forest con librería\n",
        "\n",
        "En la celda 4, usando la librería sklearn entrenen un modelo de Randon Forest para regresión  y comenten sobre el desempeño del modelo."
      ]
    },
    {
      "cell_type": "code",
      "execution_count": 24,
      "metadata": {
        "id": "YIanFdpxUbvn",
        "outputId": "abfb66c7-1770-4586-93a2-582cd251ce04",
        "colab": {
          "base_uri": "https://localhost:8080/"
        }
      },
      "outputs": [
        {
          "output_type": "stream",
          "name": "stdout",
          "text": [
            "Mejores hiperparámetros: {'max_depth': 10, 'n_estimators': 100}\n",
            "Error cuadrático medio (RMSE): 1583.6492233928598\n",
            "Error absoluto medio (MAE): 1164.5609588027446\n"
          ]
        }
      ],
      "source": [
        "from sklearn.ensemble import RandomForestRegressor\n",
        "from sklearn.model_selection import GridSearchCV, train_test_split\n",
        "from sklearn.metrics import mean_squared_error, mean_absolute_error\n",
        "\n",
        "# Variación de hiper parametros\n",
        "param_grid = {\n",
        "    'n_estimators': [50, 100],\n",
        "    'max_depth': [10, 20]\n",
        "}\n",
        "\n",
        "# Creamos el modelo Random Forest\n",
        "rf = RandomForestRegressor(random_state=42)\n",
        "\n",
        "# Buscamos el mejor conjunto de hiperparámetros mediante Grid Search\n",
        "grid_search = GridSearchCV(estimator=rf, param_grid=param_grid, cv=5, scoring='neg_mean_squared_error', n_jobs=-1)\n",
        "grid_search.fit(X_train, y_train)\n",
        "\n",
        "# Imprimimos los mejores hiperparámetros encontrados\n",
        "print(\"Mejores hiperparámetros:\", grid_search.best_params_)\n",
        "\n",
        "# Evaluamos el modelo en el conjunto de prueba\n",
        "y_pred = grid_search.predict(X_test)\n",
        "rmse_RF = mean_squared_error(y_test, y_pred, squared=False)\n",
        "mae_RF = mean_absolute_error(y_test, y_pred)\n",
        "\n",
        "# Imprimimos el RMSE y el MAE\n",
        "print(\"Error cuadrático medio (RMSE):\", rmse_RF)\n",
        "print(\"Error absoluto medio (MAE):\", mae_RF)\n"
      ]
    },
    {
      "cell_type": "markdown",
      "source": [
        "Se obtuvo que tiene una desviación promedio en los precios de los autos de 1.164 dólares con dichos resultados e indica que el modelo tiene un error promedio de 1.583 dólares en la predicción de los precios de los autos. En este caso comparado con el bagging con libreria que a sido el mejor hasta ahora se puede ver que se disminuyo el valor del MAE unos 197 dolares y con respecto a el RMSE disminuyo 241 dolares teniendo mejor desempeño el modelo anterior."
      ],
      "metadata": {
        "id": "ye-AcjMnejvM"
      }
    },
    {
      "cell_type": "markdown",
      "metadata": {
        "id": "NRJ-xmQ1Ubvo"
      },
      "source": [
        "### Punto 5 - Calibración de parámetros Random forest\n",
        "\n",
        "En la celda 5, calibren los parámetros max_depth, max_features y n_estimators del modelo de Randon Forest para regresión, comenten sobre el desempeño del modelo y describan cómo cada parámetro afecta el desempeño del modelo."
      ]
    },
    {
      "cell_type": "code",
      "execution_count": 25,
      "metadata": {
        "id": "-XbbrMe4Ubvo",
        "outputId": "d9ae672e-98dd-4ad8-9769-a77de4b47c43",
        "colab": {
          "base_uri": "https://localhost:8080/",
          "height": 482
        }
      },
      "outputs": [
        {
          "output_type": "stream",
          "name": "stdout",
          "text": [
            "El mejor valor de max_depth es: 8\n"
          ]
        },
        {
          "output_type": "display_data",
          "data": {
            "text/plain": [
              "<Figure size 640x480 with 1 Axes>"
            ],
            "image/png": "[encoded data removed]"
          },
          "metadata": {}
        }
      ],
      "source": [
        "from sklearn.model_selection import cross_val_score\n",
        "import matplotlib.pyplot as plt\n",
        "\n",
        "# Creación de lista de valores para iterar sobre diferentes valores de max_depth\n",
        "depth_range = range(1, 21)\n",
        "\n",
        "# Definición de lista para almacenar el MSE promedio por valor de max_depth\n",
        "mse_scores = []\n",
        "\n",
        "# Uso de un 10-fold cross-validation para cada valor de max_depth\n",
        "for depth in depth_range:\n",
        "    rf = RandomForestRegressor(max_depth=depth, random_state=1, n_jobs=-1)\n",
        "    mse_scores.append(-1 * cross_val_score(rf, X_train, y_train, cv=10, scoring='neg_mean_squared_error').mean())\n",
        "\n",
        "# Gráfica del desempeño del modelo vs la cantidad de max_depth\n",
        "plt.plot(depth_range, mse_scores)\n",
        "plt.xlabel('max_depth')\n",
        "plt.ylabel('MSE')\n",
        "\n",
        "optimal_max_depth = depth_range[mse_scores.index(min(mse_scores))]\n",
        "print(\"El mejor valor de max_depth es:\", optimal_max_depth)\n"
      ]
    },
    {
      "cell_type": "markdown",
      "metadata": {
        "id": "zifrvz_OUbvp"
      },
      "source": [
        "**max_depth**: El parámetro controla la profundidad máxima del árbol de decisión en cada estimador de Random Forest. Un valor más alto de \"max_depth\" permite que el modelo se ajuste más a los datos de entrenamiento, pero también puede aumentar la posibilidad de sobreajuste. Por lo tanto, un valor óptimo de \"max_depth\" en este caso  es de 8, en donde tenemos el valor minimo de la curva."
      ]
    },
    {
      "cell_type": "code",
      "execution_count": 26,
      "metadata": {
        "id": "zatXW60AUbvp",
        "outputId": "cfab15d9-329f-4d7f-955d-889ca58d9a26",
        "colab": {
          "base_uri": "https://localhost:8080/",
          "height": 482
        }
      },
      "outputs": [
        {
          "output_type": "stream",
          "name": "stdout",
          "text": [
            "El mejor valor de max_features es: 4\n"
          ]
        },
        {
          "output_type": "display_data",
          "data": {
            "text/plain": [
              "<Figure size 640x480 with 1 Axes>"
            ],
            "image/png": "[encoded data removed]"
          },
          "metadata": {}
        }
      ],
      "source": [
        "# Creación de lista de valores para iterar sobre diferentes valores de max_features\n",
        "feature_range = range(1, X_train.shape[1])\n",
        "\n",
        "# Definición de lista para almacenar el MSE promedio para cada valor de max_features\n",
        "mse_scores = []\n",
        "\n",
        "# Uso de un 10-fold cross-validation para cada valor de max_features\n",
        "for feature in feature_range:\n",
        "    rf = RandomForestRegressor(max_features=feature, max_depth=optimal_max_depth ,random_state=1, n_jobs=-1)\n",
        "    mse_scores.append(-1 * cross_val_score(rf, X_train, y_train, cv=10, scoring='neg_mean_squared_error').mean())\n",
        "\n",
        "# Gráfica del desempeño del modelo vs la cantidad de max_features\n",
        "plt.plot(feature_range, mse_scores)\n",
        "plt.xlabel('max_features')\n",
        "plt.ylabel('MSE')\n",
        "\n",
        "optimal_max_features = feature_range[mse_scores.index(min(mse_scores))]\n",
        "print(\"El mejor valor de max_features es:\", optimal_max_features)"
      ]
    },
    {
      "cell_type": "markdown",
      "metadata": {
        "id": "Dna8N-v8Ubvq"
      },
      "source": [
        "**max_features**: El parámetro controla el número máximo de características que se consideran para dividir un nodo en el árbol de decisión. Un valor más bajo de  reduce la complejidad del modelo y puede ayudar a prevenir el sobreajuste, mientras que un valor más alto puede mejorar el rendimiento del modelo en conjuntos de datos con muchas características relevantes, en este caso se selecciona el optimo"
      ]
    },
    {
      "cell_type": "code",
      "execution_count": 27,
      "metadata": {
        "id": "GqbvhMkDUbvq",
        "outputId": "f12c4163-299b-4703-b367-5af7f5c95517",
        "colab": {
          "base_uri": "https://localhost:8080/",
          "height": 482
        }
      },
      "outputs": [
        {
          "output_type": "display_data",
          "data": {
            "text/plain": [
              "<Figure size 640x480 with 1 Axes>"
            ],
            "image/png": "[encoded data removed]"
          },
          "metadata": {}
        },
        {
          "output_type": "stream",
          "name": "stdout",
          "text": [
            "El mejor valor de n_estimators es: 80\n"
          ]
        }
      ],
      "source": [
        "# Creación de lista de valores para iterar sobre diferentes valores de n_estimators\n",
        "estimator_range = range(10, 101, 10)\n",
        "\n",
        "# Definición de lista para almacenar el MSE promedio para cada valor de n_estimators\n",
        "mse_scores = []\n",
        "\n",
        "# Iterar sobre diferentes valores de n_estimators\n",
        "for estimator in estimator_range:\n",
        "    # Crear un modelo de regresión random forest con el número de estimadores dado y otros parámetros fijos\n",
        "    rf = RandomForestRegressor(n_estimators=estimator ,max_features=optimal_max_features, max_depth=optimal_max_depth ,random_state=1, n_jobs=-1)\n",
        "    # Calcular el MSE promedio utilizando 10-fold cross-validation\n",
        "    mse_scores.append(-1 * cross_val_score(rf, X_train, y_train, cv=10, scoring='neg_mean_squared_error').mean())\n",
        "\n",
        "# Gráfica del desempeño del modelo vs la cantidad de n_estimators\n",
        "plt.plot(estimator_range, mse_scores)\n",
        "plt.xlabel('n_estimators')\n",
        "plt.ylabel('MSE')\n",
        "plt.show()\n",
        "\n",
        "# Obtener el valor óptimo de n_estimators con el menor MSE promedio\n",
        "optimal_n_estimators = estimator_range[mse_scores.index(min(mse_scores))]\n",
        "print(\"El mejor valor de n_estimators es:\", optimal_n_estimators)"
      ]
    },
    {
      "cell_type": "markdown",
      "metadata": {
        "id": "XYTWAHkFUbvr"
      },
      "source": [
        "**n_estimators**: controla el número de árboles que se construyen en el modelo de Random Forest. Un valor más alto de estimadores puede mejorar el rendimiento del modelo, pero también aumenta el costo computacional, en este caso vemos que se alcanza el menor cuando la cantidad de estimadores es 80"
      ]
    },
    {
      "cell_type": "code",
      "execution_count": 29,
      "metadata": {
        "id": "gqZetD1sUbvr",
        "outputId": "7c129df0-2fdb-4738-d4b3-7e2039d494ff",
        "colab": {
          "base_uri": "https://localhost:8080/"
        }
      },
      "outputs": [
        {
          "output_type": "stream",
          "name": "stdout",
          "text": [
            "Error cuadrático medio (RMSE): 1550.0807439441892\n",
            "Error absoluto medio (MAE): 1138.942239585836\n"
          ]
        }
      ],
      "source": [
        "rf = RandomForestRegressor(n_estimators=optimal_n_estimators ,max_features=optimal_max_features, max_depth=optimal_max_depth ,random_state=1, n_jobs=-1)\n",
        "rf.fit(X_train, y_train)\n",
        "y_pred = rf.predict(X_test)\n",
        "\n",
        "b_rmse = mean_squared_error(y_test, y_pred, squared=False)\n",
        "b_mae = mean_absolute_error(y_test, y_pred)\n",
        "\n",
        "# Imprimimos el RMSE y el MAE\n",
        "print(\"Error cuadrático medio (RMSE):\", b_rmse)\n",
        "print(\"Error absoluto medio (MAE):\", b_mae)"
      ]
    },
    {
      "cell_type": "markdown",
      "metadata": {
        "id": "Ax-hjcBpUbvr"
      },
      "source": [
        "Después de realizar la búsqueda de los mejores parámetros para el modelo, se observa una mejora en las métricas de evaluación, tanto en el RMSE como en el MAE. En el primer modelo, se obtuvo una desviación promedio en los precios de los autos de 1.164 dólares, mientras que con el modelo ajustado con los mejores parámetros se logró reducir esta desviación a 1.138 dólares. Esto significa que se ha logrado una mejora de 26 dólares en promedio en la precisión del modelo en términos de la desviación de las predicciones con respecto a los precios reales de los autos usados."
      ]
    },
    {
      "cell_type": "markdown",
      "metadata": {
        "id": "Z-uJlq9uUbvr"
      },
      "source": [
        "### Punto 6 - XGBoost con librería\n",
        "\n",
        "En la celda 6 implementen un modelo XGBoost de regresión con la librería sklearn y comenten sobre el desempeño del modelo."
      ]
    },
    {
      "cell_type": "code",
      "execution_count": 30,
      "metadata": {
        "id": "R1fo60bpUbvr",
        "outputId": "c56b624d-67fd-475e-891c-7876a641b08d",
        "colab": {
          "base_uri": "https://localhost:8080/"
        }
      },
      "outputs": [
        {
          "output_type": "stream",
          "name": "stdout",
          "text": [
            "Error cuadrático medio (RMSE): 1621.4197004256812\n",
            "Error absoluto medio (MAE): 1186.634392366123\n"
          ]
        }
      ],
      "source": [
        "from xgboost import XGBRegressor\n",
        "XG_reg = XGBRegressor()\n",
        "\n",
        "XG_reg.fit(X_train, y_train)\n",
        "\n",
        "y_pred= XG_reg.predict(X_test)\n",
        "\n",
        "mse_XG = mean_squared_error(y_test, y_pred)\n",
        "MAE_XG = mean_absolute_error(y_test, y_pred)\n",
        "RMSE_XG = np.sqrt(mse_XG)\n",
        "MAPE_XG = mean_absolute_percentage_error(y_test, y_pred)\n",
        "\n",
        "print(\"Error cuadrático medio (RMSE):\", RMSE_XG)\n",
        "print(\"Error absoluto medio (MAE):\", MAE_XG)"
      ]
    },
    {
      "cell_type": "markdown",
      "source": [
        "Se obtuvo que tiene una desviación promedio en los precios de los autos de 1.186 dólares con dichos resultados e indica que el modelo tiene un error promedio de 1.621 dólares en la predicción de los precios de los autos. En este caso comparado con el modelo anterior que a sido el mejor hasta ahora se puede ver que aumento el valor del MAE unos 48 dolares y con respecto a el RMSE aumento 71 dolares teniendo menor desempeño el modelo anterior."
      ],
      "metadata": {
        "id": "qMXn8KGDfjJE"
      }
    },
    {
      "cell_type": "markdown",
      "metadata": {
        "id": "3GzKLD5TUbvs"
      },
      "source": [
        "### Punto 7 - Calibración de parámetros XGBoost\n",
        "\n",
        "En la celda 7 calibren los parámetros learning rate, gamma y colsample_bytree del modelo XGBoost para regresión, comenten sobre el desempeño del modelo y describan cómo cada parámetro afecta el desempeño del modelo."
      ]
    },
    {
      "cell_type": "code",
      "execution_count": 31,
      "metadata": {
        "id": "6LC3zncpUbvs",
        "outputId": "385be002-126b-4b89-a378-17a54ddaa8a4",
        "colab": {
          "base_uri": "https://localhost:8080/",
          "height": 482
        }
      },
      "outputs": [
        {
          "output_type": "display_data",
          "data": {
            "text/plain": [
              "<Figure size 640x480 with 1 Axes>"
            ],
            "image/png": "[encoded data removed]"
          },
          "metadata": {}
        },
        {
          "output_type": "stream",
          "name": "stdout",
          "text": [
            "El mejor valor de learning_rate es: 0.05\n"
          ]
        }
      ],
      "source": [
        "# Creación de lista de valores para iterar sobre diferentes valores de learning_rate\n",
        "learning_rate_range = [0.01, 0.05, 0.1, 0.2, 0.3]\n",
        "\n",
        "# Definición de lista para almacenar el MSE promedio para cada valor de learning_rate\n",
        "mse_scores = []\n",
        "\n",
        "# Iterar sobre diferentes valores de learning_rate\n",
        "for lr in learning_rate_range:\n",
        "    # Crear un modelo de regresión XGBoost con el learning_rate dado y otros parámetros fijos\n",
        "    xgb = XGBRegressor(learning_rate=lr)\n",
        "    # Calcular el MSE promedio utilizando 10-fold cross-validation\n",
        "    mse_scores.append(-1 * cross_val_score(xgb, X_train, y_train, cv=10, scoring='neg_mean_squared_error').mean())\n",
        "\n",
        "# Gráfica del desempeño del modelo vs el valor de learning_rate\n",
        "plt.plot(learning_rate_range, mse_scores)\n",
        "plt.xlabel('learning_rate')\n",
        "plt.ylabel('MSE')\n",
        "plt.show()\n",
        "\n",
        "# Obtener el valor óptimo de learning_rate con el menor MSE promedio\n",
        "optimal_learning_rate = learning_rate_range[mse_scores.index(min(mse_scores))]\n",
        "print(\"El mejor valor de learning_rate es:\", optimal_learning_rate)"
      ]
    },
    {
      "cell_type": "markdown",
      "metadata": {
        "id": "sbsTfKmiUbvs"
      },
      "source": [
        "**learning_rate**: Este parámetro controla la tasa de aprendizaje del modelo. Un valor más pequeño de learning_rate, como 0.05 en este caso, implica una actualización más lenta de los pesos y puede resultar en un modelo más conservador con menos riesgo de sobreajuste."
      ]
    },
    {
      "cell_type": "code",
      "execution_count": 32,
      "metadata": {
        "id": "tlNgx0INUbvt",
        "outputId": "155d4aec-2bc2-4e11-9aaf-aee90acaa8b1",
        "colab": {
          "base_uri": "https://localhost:8080/",
          "height": 482
        }
      },
      "outputs": [
        {
          "output_type": "display_data",
          "data": {
            "text/plain": [
              "<Figure size 640x480 with 1 Axes>"
            ],
            "image/png": "[encoded data removed]"
          },
          "metadata": {}
        },
        {
          "output_type": "stream",
          "name": "stdout",
          "text": [
            "El mejor valor de gamma es: 0\n"
          ]
        }
      ],
      "source": [
        "# Creación de lista de valores para iterar sobre diferentes valores de gamma\n",
        "gamma_range = [0, 0.1, 0.2, 0.3, 0.4]\n",
        "\n",
        "# Definición de lista para almacenar el MSE promedio para cada valor de gamma\n",
        "mse_scores = []\n",
        "\n",
        "# Iterar sobre diferentes valores de gamma\n",
        "for gamma_val in gamma_range:\n",
        "    # Crear un modelo de regresión XGBoost con el gamma dado y otros parámetros fijos\n",
        "    xgb = XGBRegressor(gamma=gamma_val,learning_rate=optimal_learning_rate )\n",
        "    # Calcular el MSE promedio utilizando 10-fold cross-validation\n",
        "    mse_scores.append(-1 * cross_val_score(xgb, X_train, y_train, cv=10, scoring='neg_mean_squared_error').mean())\n",
        "\n",
        "# Gráfica del desempeño del modelo vs el valor de gamma\n",
        "plt.plot(gamma_range, mse_scores)\n",
        "plt.xlabel('gamma')\n",
        "plt.ylabel('MSE')\n",
        "plt.show()\n",
        "\n",
        "# Obtener el valor óptimo de gamma con el menor MSE promedio\n",
        "optimal_gamma = gamma_range[mse_scores.index(min(mse_scores))]\n",
        "print(\"El mejor valor de gamma es:\", optimal_gamma)"
      ]
    },
    {
      "cell_type": "markdown",
      "metadata": {
        "id": "BI5jPykXUbvt"
      },
      "source": [
        "**gamma**: Este parámetro controla la reducción mínima requerida en la función de pérdida para realizar una partición en un nodo del árbol. Un valor mayor de gamma permite una mayor reducción de la función de pérdida antes de realizar una partición, lo que resulta en árboles más pequeños y menos complejos. Un valor de 0.0 en este caso indica que no se aplica ninguna restricción en la creación de nuevos nodos en los árboles."
      ]
    },
    {
      "cell_type": "code",
      "execution_count": 33,
      "metadata": {
        "id": "o4fq3rqAUbvt",
        "outputId": "dd105d28-fb1b-42cc-b070-2931d42e4259",
        "colab": {
          "base_uri": "https://localhost:8080/",
          "height": 482
        }
      },
      "outputs": [
        {
          "output_type": "display_data",
          "data": {
            "text/plain": [
              "<Figure size 640x480 with 1 Axes>"
            ],
            "image/png": "[encoded data removed]"
          },
          "metadata": {}
        },
        {
          "output_type": "stream",
          "name": "stdout",
          "text": [
            "El mejor valor de colsample_bytree es: 0.7\n"
          ]
        }
      ],
      "source": [
        "# Creación de lista de valores para iterar sobre diferentes valores de colsample_bytree\n",
        "colsample_bytree_range = [0.1, 0.3, 0.5, 0.7, 0.9,1.0]\n",
        "\n",
        "# Definición de lista para almacenar el MSE promedio para cada valor de colsample_bytree\n",
        "mse_scores = []\n",
        "\n",
        "# Iterar sobre diferentes valores de colsample_bytree\n",
        "for colsample_bytree_val in colsample_bytree_range:\n",
        "    # Crear un modelo de regresión XGBoost con el colsample_bytree dado y otros parámetros fijos\n",
        "    xgb = XGBRegressor(colsample_bytree=colsample_bytree_val, gamma=optimal_gamma,learning_rate=optimal_learning_rate)\n",
        "    # Calcular el MSE promedio utilizando 10-fold cross-validation\n",
        "    mse_scores.append(-1 * cross_val_score(xgb, X_train, y_train, cv=10, scoring='neg_mean_squared_error').mean())\n",
        "\n",
        "# Gráfica del desempeño del modelo vs el valor de colsample_bytree\n",
        "plt.plot(colsample_bytree_range, mse_scores)\n",
        "plt.xlabel('colsample_bytree')\n",
        "plt.ylabel('MSE')\n",
        "plt.show()\n",
        "\n",
        "# Obtener el valor óptimo de colsample_bytree con el menor MSE promedio\n",
        "optimal_colsample_bytree = colsample_bytree_range[mse_scores.index(min(mse_scores))]\n",
        "print(\"El mejor valor de colsample_bytree es:\", optimal_colsample_bytree)"
      ]
    },
    {
      "cell_type": "markdown",
      "metadata": {
        "id": "aLpKMlqsUbvt"
      },
      "source": [
        "**colsample_bytree**: Este parámetro controla la fracción de características que se utiliza para construir cada árbol en el modelo. Un valor de 1.0 indica que se utilizan todas las características disponibles, mientras que un valor menor a 1.0, como 0.7 en este caso, indica que se selecciona aleatoriamente el 70% de las características para construir cada árbol. Reducir la fracción de características puede ayudar a reducir la correlación entre los árboles y mejorar la generalización del modelo."
      ]
    },
    {
      "cell_type": "code",
      "execution_count": 34,
      "metadata": {
        "id": "3T_wKLRZUbvu",
        "outputId": "17ce52b5-2c59-4f03-8dbc-cb71232cd2a2",
        "colab": {
          "base_uri": "https://localhost:8080/"
        }
      },
      "outputs": [
        {
          "output_type": "stream",
          "name": "stdout",
          "text": [
            "Error cuadrático medio (RMSE): 1546.1578633018344\n",
            "Error absoluto medio (MAE): 1130.6114840254222\n"
          ]
        }
      ],
      "source": [
        "xg = XGBRegressor(colsample_bytree=optimal_colsample_bytree, gamma=optimal_gamma,learning_rate=optimal_learning_rate)\n",
        "xg.fit(X_train, y_train)\n",
        "y_pred = xg.predict(X_test)\n",
        "\n",
        "b_rmse_xg = mean_squared_error(y_test, y_pred, squared=False)\n",
        "b_mae_xg = mean_absolute_error(y_test, y_pred)\n",
        "\n",
        "# Imprimimos el RMSE y el MAE\n",
        "print(\"Error cuadrático medio (RMSE):\", b_rmse_xg)\n",
        "print(\"Error absoluto medio (MAE):\", b_mae_xg)"
      ]
    },
    {
      "cell_type": "markdown",
      "metadata": {
        "id": "Ub0sWAG_Ubvu"
      },
      "source": [
        "Después de realizar la búsqueda de los mejores parámetros para el modelo, se observa una mejora en las métricas de evaluación, tanto en el RMSE como en el MAE. En el primer modelo, se obtuvo una desviación promedio en los precios de los autos de 1.186 dólares, mientras que con el modelo ajustado con los mejores parámetros se logró reducir esta desviación a 1.130 dólares. Esto significa que se ha logrado una mejora de 56 dólares en promedio en la precisión del modelo en términos de la desviación de las predicciones con respecto a los precios reales de los autos usados."
      ]
    },
    {
      "cell_type": "markdown",
      "metadata": {
        "id": "Cmv8mAefUbvu"
      },
      "source": [
        "### Punto 8 - Comparación y análisis de resultados\n",
        "En la celda 8 comparen los resultados obtenidos de los diferentes modelos (random forest y XGBoost) y comenten las ventajas del mejor modelo y las desventajas del modelo con el menor desempeño."
      ]
    },
    {
      "cell_type": "code",
      "execution_count": 37,
      "metadata": {
        "id": "gFWpp1IQUbvu",
        "outputId": "fe2563a5-4e59-4546-fbe6-433924810ba8",
        "colab": {
          "base_uri": "https://localhost:8080/",
          "height": 513
        }
      },
      "outputs": [
        {
          "output_type": "display_data",
          "data": {
            "text/plain": [
              "<Figure size 640x480 with 1 Axes>"
            ],
            "image/png": "[encoded data removed]"
          },
          "metadata": {}
        }
      ],
      "source": [
        "# Datos para el gráfico de barras\n",
        "ejeX = ['Árbol de Decisión manual','Bagging manual', 'Bagging librería', 'RF', 'Best RF', 'XGBoost', 'Best XGBoost']\n",
        "ejeY = [MAE_manual_tree,MAE_bag_manual, MAE_BG_sk, mae_RF, b_mae, MAE_XG, b_mae_xg]\n",
        "\n",
        "# Crear la figura y el eje, ajustando el ancho de la figura\n",
        "fig = plt.figure()\n",
        "ax = fig.add_axes([0, 0, 2, 1])\n",
        "ax.set_title(\"Comparación de modelos de regresión - MAE\")\n",
        "\n",
        "# Crear la gráfica de barras\n",
        "ax.bar(ejeX, ejeY)\n",
        "\n",
        "# Función para agregar etiquetas a las barras\n",
        "def addlabels(x, y, plot):\n",
        "    for i in range(len(x)):\n",
        "        plot.text(i, y[i], y[i])\n",
        "\n",
        "# Agregar etiquetas a las barras\n",
        "addlabels(ejeX, ejeY, plt)\n",
        "\n",
        "# Mostrar el gráfico\n",
        "plt.show()"
      ]
    },
    {
      "cell_type": "code",
      "execution_count": 38,
      "metadata": {
        "id": "voCqWWZ_Ubvu",
        "colab": {
          "base_uri": "https://localhost:8080/",
          "height": 513
        },
        "outputId": "dfd3426a-2455-44d1-ee65-37d3a60d934d"
      },
      "outputs": [
        {
          "output_type": "display_data",
          "data": {
            "text/plain": [
              "<Figure size 640x480 with 1 Axes>"
            ],
            "image/png": "[encoded data removed]"
          },
          "metadata": {}
        }
      ],
      "source": [
        "# Datos para el gráfico de barras\n",
        "ejeX = ['Árbol de Decisión manual','Bagging manual', 'Bagging librería', 'RF', 'Best RF', 'XGBoost', 'Best XGBoost']\n",
        "ejeY = [rsme_manual_tree,RMSE_bag_manual, RMSE_BG_sk, rmse_RF, b_rmse, RMSE_XG, b_rmse_xg]\n",
        "\n",
        "# Crear la figura y el eje, ajustando el ancho de la figura\n",
        "fig = plt.figure()\n",
        "ax = fig.add_axes([0, 0, 2, 1])\n",
        "ax.set_title(\"Comparación de modelos de regresión - RMSE\")\n",
        "\n",
        "# Crear la gráfica de barras\n",
        "ax.bar(ejeX, ejeY)\n",
        "\n",
        "# Función para agregar etiquetas a las barras\n",
        "def addlabels(x, y, plot):\n",
        "    for i in range(len(x)):\n",
        "        plot.text(i, y[i], y[i])\n",
        "\n",
        "# Agregar etiquetas a las barras\n",
        "addlabels(ejeX, ejeY, plt)\n",
        "\n",
        "# Mostrar el gráfico\n",
        "plt.show()"
      ]
    },
    {
      "cell_type": "markdown",
      "source": [
        "Teniendo en cuenta todos los métodos realizados en el taller se puede ver que el mejor desempeño teniendo en cuenta Error cuadrático medio (RMSE) y Error absoluto medio (MAE) es el obtenido en la calibracion de los párametros de XGBoost obtuviendo 1546 y 1130 respectivamente. Si se realiza la comparación con los resultados delmétodo menos eficiente (Árbol de decisión Manual) tendiendo los resultados 1921 y 1445 se puede inferir  que se ha logrado una mejora de 315 dólares en promedio en la precisión del modelo en términos de la desviación de las predicciones con respecto a los precios reales de los autos usados y 375 con respecto a el error promedio con respecto a la predicción de los precios de los autos.\n"
      ],
      "metadata": {
        "id": "BjoUluvVho2a"
      }
    }
  ],
  "metadata": {
    "kernelspec": {
      "display_name": "Python 3",
      "language": "python",
      "name": "python3"
    },
    "language_info": {
      "codemirror_mode": {
        "name": "ipython",
        "version": 3
      },
      "file_extension": ".py",
      "mimetype": "text/x-python",
      "name": "python",
      "nbconvert_exporter": "python",
      "pygments_lexer": "ipython3",
      "version": "3.8.5"
    },
    "colab": {
      "provenance": []
    }
  },
  "nbformat": 4,
  "nbformat_minor": 0
}